{
 "cells": [
  {
   "cell_type": "markdown",
   "id": "5c901af9",
   "metadata": {},
   "source": [
    "# Prompt Engineering for Agents\n",
    "#### You prompts are your agent's DNA. Make them count:\n"
   ]
  },
  {
   "cell_type": "code",
   "execution_count": null,
   "id": "ddea1b55",
   "metadata": {},
   "outputs": [],
   "source": [
    "AGENT_SYSTEM_PROMPT = \"\"\"\n",
    "  You are a helpful AI agent with the following capabilities:\n",
    "  {tools_description}\n",
    "  \n",
    "  Your primary goal is : {primary_goal}\n",
    "  \n",
    "  Operating principles:\n",
    "  1. Always think step by step before acting.\n",
    "  2. Use tools when you need external information or actions.\n",
    "  3. Be transparent about your reasoning process.\n",
    "  4. Ask for clarification when instructions are unclear.\n",
    "  5. Admit when you don't know something\n",
    "  \n",
    "  When using tools, follow this format:\n",
    "  Though: [your reasoning]\n",
    "  Action: [tool name]\n",
    "  Action Input: [tool parameters]\n",
    "  Observation: [tool result]\n",
    "  ... continue until you have enough information\n",
    "  \n",
    "  Final Answer: [your response to the user]\n",
    "\"\"\"\n",
    "\n"
   ]
  },
  {
   "cell_type": "markdown",
   "id": "bbb8eea8",
   "metadata": {},
   "source": [
    "# Error Handling and Recovery\n",
    "#### Build resilient agents that handle failures gracefully:"
   ]
  },
  {
   "cell_type": "code",
   "execution_count": null,
   "id": "7cb81550",
   "metadata": {},
   "outputs": [],
   "source": [
    "class ResilientAgent:\n",
    "    def execute_with_recovery(self, task):\n",
    "        max_retries = 3\n",
    "        retry_count = 0\n",
    "        \n",
    "        while retry_count < max_retries:\n",
    "            try:\n",
    "                return self.execute_task(task)\n",
    "            except ToolFailureException as e:\n",
    "                retry_count += 1\n",
    "                if retry_count >= max_retries:\n",
    "                    # Try alternative approach\n",
    "                    task = self.adapt_task_for_retry(task, e)\n",
    "                else:\n",
    "                    return f\"Task failed after {max_retries} attempts: {str(e)}\"\n",
    "            except Exception as e:\n",
    "                return f\"Unexpected error occurred: {str(e)}\""
   ]
  },
  {
   "cell_type": "markdown",
   "id": "d4932f5c",
   "metadata": {},
   "source": [
    "# Performance Optimization\n",
    "#### Keep your agents fast and efficient:"
   ]
  },
  {
   "cell_type": "code",
   "execution_count": null,
   "id": "3cb79268",
   "metadata": {},
   "outputs": [],
   "source": [
    "class OptimizedAgent:\n",
    "    def __init__(self):\n",
    "        self.cache = TTLCache(maxsize=1000, ttl=3600)\n",
    "        self.tool_pool = ThreadPoolExecutor(max_workers=5)\n",
    "        \n",
    "    @lru.cache(maxsize=100)\n",
    "    def cached_reasoning(self, query_hash):\n",
    "        \"\"\"Cache reasoning for similar queries.\"\"\"\n",
    "        return self.expensive_reasoning_operation(query_hash)\n",
    "      \n",
    "    async def parallel_tool_execution(self, tool_tasks):\n",
    "        \"\"\"Execute multiple tools concurrently.\"\"\"\n",
    "        tasks = [self.execute_tool_async(task) for task in tool_tasks]\n",
    "        return await asyncio.gather(*tasks)"
   ]
  },
  {
   "cell_type": "markdown",
   "id": "79f836e5",
   "metadata": {},
   "source": [
    "# Testing Your Agent Design\n",
    "### Unit Testing Individual Components"
   ]
  },
  {
   "cell_type": "code",
   "execution_count": null,
   "id": "1a16e542",
   "metadata": {},
   "outputs": [],
   "source": [
    "class TestAgentComponents:\n",
    "    def test_memory_system(self):\n",
    "        memory = AgentMemory()\n",
    "        interaction = \"User asked about the weather in Harare.\"\n",
    "        memory.remember(interaction)\n",
    "        \n",
    "        recall = memory.recall(\"weather in Harare\")\n",
    "        assert interaction in recall\n",
    "        \n",
    "    def test_tool_execution(self):\n",
    "        tool_manager = ToolManager()\n",
    "        tool_manager.register_tool(\"calculator\", CalculatorTool())\n",
    "        \n",
    "        result = tool_manager.execute_tool(\"calculator\", {\"expression\": \" 2+2\"})\n",
    "        \n",
    "        assert result == 4, f\"Expected 4, got {result}\""
   ]
  },
  {
   "cell_type": "markdown",
   "id": "52934e8b",
   "metadata": {},
   "source": [
    "### Integration Testing"
   ]
  },
  {
   "cell_type": "code",
   "execution_count": null,
   "id": "c5049c41",
   "metadata": {},
   "outputs": [],
   "source": [
    "def test_agent_workflow():\n",
    "    agent = MyAgent()\n",
    "    test_query = \"What is the weather in Harare and should I bring an umbrella?\"\n",
    "    \n",
    "    result = agent.process(test_query)\n",
    "    \n",
    "    # Verify agent used appropriate tools and reasoning\n",
    "    assert \"weather_api\" in agent.tools_used\n",
    "    # Verify reasonable response\n",
    "    assert \"umbrella\" in result.lower()\n",
    "    assert len(result) > 50 # Substantive response"
   ]
  }
 ],
 "metadata": {
  "language_info": {
   "name": "python"
  }
 },
 "nbformat": 4,
 "nbformat_minor": 5
}
