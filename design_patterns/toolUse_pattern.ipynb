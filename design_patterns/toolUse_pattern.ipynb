{
 "cells": [
  {
   "cell_type": "code",
   "execution_count": null,
   "id": "32382e25",
   "metadata": {},
   "outputs": [],
   "source": [
    "class ToolEnabledAgent:\n",
    "    def __init__(self):\n",
    "        self.tools = {\n",
    "          'web_search': WebSearchTool(),\n",
    "          'calculator': CalculatorTool(),\n",
    "          'email': EmailTool(),\n",
    "          'database': DatabaseTool(),\n",
    "          \n",
    "        }\n",
    "        \n",
    "      def execute_with_tools(self, query):\n",
    "        # Agent decides which tools to use \n",
    "        plan = self.create_plan(query)\n",
    "\n",
    "        results = {}\n",
    "        for step in plan:\n",
    "            tool_name = step.tool\n",
    "            tool_input = step.input\n",
    "            results[step.id] = self.tools[tool_name].execute(tool_input)\n",
    "        \n",
    "        return self.synthesize_results(results)"
   ]
  }
 ],
 "metadata": {
  "language_info": {
   "name": "python"
  }
 },
 "nbformat": 4,
 "nbformat_minor": 5
}
