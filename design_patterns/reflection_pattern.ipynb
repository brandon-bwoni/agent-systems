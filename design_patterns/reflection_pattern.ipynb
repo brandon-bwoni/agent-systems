{
 "cells": [
  {
   "cell_type": "code",
   "execution_count": null,
   "id": "9ce0621b",
   "metadata": {},
   "outputs": [],
   "source": [
    "class ReflectiveAgent:\n",
    "    def process_with_reflection(self, query):\n",
    "        # Initial response\n",
    "        initial_response = self.generate_response(query)\n",
    "        \n",
    "        # self-critique\n",
    "        critique = self.critique_response(initial_response, query)\n",
    "        \n",
    "        # Improveme if needed\n",
    "        if critique.needs_improvement:\n",
    "            improved_response = self.refine_response(initial_response, critique.suggestions)\n",
    "            return improved_response\n",
    "        \n",
    "        return initial_response\n",
    "      \n",
    "# When to use: Content generation, code writing, complex analysing tasks where quality matters more than speed.\n"
   ]
  }
 ],
 "metadata": {
  "language_info": {
   "name": "python"
  }
 },
 "nbformat": 4,
 "nbformat_minor": 5
}
