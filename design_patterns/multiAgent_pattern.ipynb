{
 "cells": [
  {
   "cell_type": "code",
   "execution_count": null,
   "id": "a82fe3bf",
   "metadata": {},
   "outputs": [],
   "source": [
    "class MultiAgentSystem:\n",
    "    def __init__(self):\n",
    "        self.agents = {\n",
    "            'research': ReaserchAgent(),\n",
    "            'writer': WriterAgent(),\n",
    "            'reviewer': ReviewerAgent(),\n",
    "            'coordinator': CoordinatorAgent(),\n",
    "            'editor': EditorAgent(),\n",
    "        }\n",
    "        \n",
    "    def collaborative_solve(self, task):\n",
    "        # Coordinator delegate subtasks to agents\n",
    "        assignments = self.agents['coordinator'].delegate(task)\n",
    "        \n",
    "        # Agents works on their parts\n",
    "        results = {}\n",
    "        for agent_name, subtask in assignments.items():\n",
    "            results[agent_name] = self.agents[agent_name].execute(subtask)\n",
    "            \n",
    "        # Coordinate final results\n",
    "        return self.agents['coordinatir'].synthesize(results)"
   ]
  }
 ],
 "metadata": {
  "language_info": {
   "name": "python"
  }
 },
 "nbformat": 4,
 "nbformat_minor": 5
}
