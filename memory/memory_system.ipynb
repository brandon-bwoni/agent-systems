{
 "cells": [
  {
   "cell_type": "code",
   "execution_count": null,
   "id": "063da263",
   "metadata": {},
   "outputs": [],
   "source": [
    "class AgentMemory:\n",
    "    def __init__(self):\n",
    "        self.short_term_memory = {} # Current conversation\n",
    "        self.working_memory = {} # Session context\n",
    "        self.long_term_memory = VectorDatabase() # Persistent Knowledge\n",
    "      \n",
    "    def store_interaction(self, query, response, importance_score):\n",
    "        # Store based on importance and recency\n",
    "        if importance_score > 0.8:\n",
    "          self.long_term_memory.add(query, response)\n",
    "        self.short_term_memory[query] = response"
   ]
  }
 ],
 "metadata": {
  "language_info": {
   "name": "python"
  }
 },
 "nbformat": 4,
 "nbformat_minor": 5
}
